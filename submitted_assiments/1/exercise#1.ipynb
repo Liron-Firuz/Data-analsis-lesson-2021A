{
 "cells": [
  {
   "cell_type": "markdown",
   "metadata": {},
   "source": [
    "# Exercise 1\n",
    "---"
   ]
  },
  {
   "cell_type": "markdown",
   "metadata": {},
   "source": [
    "<div style=\"direction:rtl\"> \n",
    "להגשה ב 30.3.2021 עד חצות\n",
    "</div>"
   ]
  },
  {
   "cell_type": "markdown",
   "metadata": {},
   "source": [
    "<div style=\"direction:rtl\"> \n",
    "ההגשה לבד או בזוגות. במקרה של הגשה בזוגות -רק אחד מבני הזוג מגיש, אך יש להקפיד לרשום את השם ות.ז. של שני הסטודנטים שהגישו. מי שלא רשום על אף עבודה לא יקבל ציון, ולא יוכל להצטרף לעבודה בדיעבד.\n",
    "</div>"
   ]
  },
  {
   "cell_type": "markdown",
   "metadata": {},
   "source": [
    "<div style=\"direction:rtl\"> \n",
    "במידה והקובץ לא נפתח  - הציון הינו אפס.\n",
    "</div>"
   ]
  },
  {
   "cell_type": "markdown",
   "metadata": {},
   "source": [
    "<div style=\"direction:rtl\"> \n",
    "במידה וסעיף מסויים ישנה שגיאת הרצה - הציון על סעיף זה הינו אפס.\n",
    "</div>"
   ]
  },
  {
   "cell_type": "markdown",
   "metadata": {},
   "source": [
    "<div style=\"direction:rtl\"> \n",
    "יש להראות את הקוד שאיתו הגעתם לכל חלק של הפתרון. סעיף עם תשובה ללא קוד יקבל ציון אפס.\n",
    "</div>"
   ]
  },
  {
   "cell_type": "markdown",
   "metadata": {},
   "source": [
    "<div style=\"direction:rtl\"> \n",
    "יש לבצע את כל חלקי התרגיל בעזרת פקודות בפייתון בלבד. אין להעזר במחשבון, דף ועט, אקסל או כל כלי אחר. במילים אחרות - יש למצוא את התשובות בעזרת פקודות בפייתון\n",
    "</div>"
   ]
  },
  {
   "cell_type": "markdown",
   "metadata": {},
   "source": [
    "<div style=\"direction:rtl\"> \n",
    "התרגיל הינו אישי וניתן לבצעו בזוגות בלבד. אין להעביר חלקי תרגיל בין סטודנטים בכיתה. ניתן להתייעץ בעל-פה אך לא ניתן לעבוד בקבוצות של יותר משני סטודנטים. העברת התרגיל על כל המשתמע מכך לאנשים אחרים שאינם רשומים לקורס אסורה. כל הנ\"ל הינם עבירות משמעת אשר יועברו לבחינת ועדת המשמעת של האוניברסיטה.\n",
    "</div>"
   ]
  },
  {
   "cell_type": "markdown",
   "metadata": {},
   "source": [
    "<div style=\"direction:rtl\"> \n",
    "יש להסביר על מה אתם עונים. כדי לא להסתבך עם עברית, אפשר לענות באנגלית\n",
    "</div>\n"
   ]
  },
  {
   "cell_type": "markdown",
   "metadata": {},
   "source": [
    "<div style=\"direction:rtl\"> \n",
    "יש להגיש קובץ אחד בלבד, מסוג ipynb\n",
    "</div>"
   ]
  },
  {
   "cell_type": "markdown",
   "metadata": {},
   "source": [
    "<div style=\"direction:rtl\"> \n",
    "בתרגיל תשעה סעיפים. כל סעיף שפתור נכון מזכה ב10 נקודות. 10 נקודות נוספות ניתנות על עצם ההגשה (אלא אם כן הגשתם קובץ שלא נפתח). במידה ותערערו על ציון התרגיל, 10 הנקודות שניתנות על ההגשה יורדות באופן אוטומטי, גם אם הערעור מוצדק.\n",
    "</div>"
   ]
  },
  {
   "cell_type": "markdown",
   "metadata": {},
   "source": [
    "---\n",
    "<div style=\"direction:rtl\"> \n",
    "    לאחר שקראתם היטב את כל הוראות ההגשה, פתרו את התרגיל על פי הסעיפים הבאים:\n",
    "  </div>  "
   ]
  },
  {
   "cell_type": "markdown",
   "metadata": {},
   "source": [
    "<div style=\"direction:rtl\"> \n",
    "  א. קיראו את קובץ החיסונים שקראנו בכיתה (ראו שיעור 2) והציגו את 5 השורות הראשונות בקובץ.\n",
    "</div>"
   ]
  },
  {
   "cell_type": "markdown",
   "metadata": {},
   "source": [
    "<div style=\"direction:rtl\"> \n",
    "ב. ביחרו מדינה שמתחילה באותה האות כמו השם של אחד מחברי הצוות, באנגלית. הראו בקוד כיצד אתם מוצאים את המדינה. רמז: כדי למצוא מדינות כאלו ניתן להשתמש בפקודה\n",
    "</div>\n",
    "'str.contains'"
   ]
  },
  {
   "cell_type": "markdown",
   "metadata": {},
   "source": [
    "<div style=\"direction:rtl\"> \n",
    "ג. כמה רשומות יש עבור המדינה שבחרתם?\n",
    "</div>"
   ]
  },
  {
   "cell_type": "markdown",
   "metadata": {},
   "source": [
    "<div style=\"direction:rtl\"> \n",
    "ד. באיזה תאריך התחסנו הכי הרבה אנשים במדינה שבחרתם?\n",
    "</div>"
   ]
  },
  {
   "cell_type": "markdown",
   "metadata": {},
   "source": [
    "<div style=\"direction:rtl\"> \n",
    "ה. הציגו את 3 הרשומות (שורות) הראשונות עבור המדינה שבחרתם, עם העמודות של התאריך ומספר המתחסנים היומי ושם המדינה בלבד (כלומר הציגו שלוש שורות ושלוש עמודות) \n",
    "</div>"
   ]
  },
  {
   "cell_type": "markdown",
   "metadata": {},
   "source": [
    "<div style=\"direction:rtl\"> \n",
    " ו. מה הוא מספר המתחסנים הממוצע מידי יום במדינה שבחרתם?. יש לחשב ממוצע על פני כל הימים החל מהתאריך בו החלו לחסן במדינה שבחרתם עבור העמודה\n",
    "</div>"
   ]
  },
  {
   "cell_type": "markdown",
   "metadata": {},
   "source": [
    "daily_vaccinations"
   ]
  },
  {
   "cell_type": "markdown",
   "metadata": {},
   "source": [
    "<div style=\"direction:rtl\"> \n",
    "ז. הציגו רק את הימים עם נתונים (הורידו ימים ללא נתונים אם ישנם ימים כאלו) עבור המדינה שבחרתם עבור העמודה: \n",
    "</div>"
   ]
  },
  {
   "cell_type": "markdown",
   "metadata": {},
   "source": [
    "people_vaccinated_per_hundred"
   ]
  },
  {
   "cell_type": "markdown",
   "metadata": {},
   "source": [
    "<div style=\"direction:rtl\"> \n",
    "ח. מהו מספר המתחסנים הממוצע ל100 איש במדינה שבחרתם? יש לחשב ממוצע על פני כל הימים החל מהתאריך בו החלו לחסן במדינה שבחרתם. שימו לב היטב לסוג הממוצע שנדרש לחשב כאן. כמו כן דאגו להוריד את הימים בהם אין נתונים לפני שאתם מבצעים את החישוב\n",
    "</div>"
   ]
  },
  {
   "cell_type": "markdown",
   "metadata": {},
   "source": [
    "<div style=\"direction:rtl\">\n",
    "    ט. מה גדול יותר, הממוצע או החציון של מספר המתחסנים היומי על פני כל ימי החיסון החל מהתאריך בו החלו לחסן במדינה בחרתם? הסבירו מדוע אתם חושבים שזה כך. הכוונה לעמודה\n",
    "    </div>"
   ]
  },
  {
   "cell_type": "markdown",
   "metadata": {},
   "source": [
    "daily_vaccinations"
   ]
  },
  {
   "cell_type": "markdown",
   "metadata": {},
   "source": [
    "<div style=\"direction:rtl\"> \n",
    " \n",
    "</div>"
   ]
  },
  {
   "cell_type": "markdown",
   "metadata": {},
   "source": [
    "--\n",
    "## -Example solution:\n",
    "### name of students:\n",
    "\n",
    "ישראל ישראלי תז 123456789\n",
    "\n",
    "מישל מישלי תז 123456798"
   ]
  },
  {
   "cell_type": "markdown",
   "metadata": {},
   "source": [
    "solution to question 1:"
   ]
  },
  {
   "cell_type": "code",
   "execution_count": null,
   "metadata": {},
   "outputs": [],
   "source": [
    "#write your code here"
   ]
  },
  {
   "cell_type": "markdown",
   "metadata": {},
   "source": [
    "solution to question 2 - we chose Madgascar because it begins with \"M\" like Michel"
   ]
  },
  {
   "cell_type": "code",
   "execution_count": null,
   "metadata": {},
   "outputs": [],
   "source": [
    "#write your code here"
   ]
  },
  {
   "cell_type": "markdown",
   "metadata": {},
   "source": [
    "solution to question 3: there are X rows in our file, we computed the answer in the following way:"
   ]
  },
  {
   "cell_type": "code",
   "execution_count": null,
   "metadata": {},
   "outputs": [],
   "source": [
    "#write your code here"
   ]
  },
  {
   "cell_type": "code",
   "execution_count": 1,
   "metadata": {},
   "outputs": [],
   "source": [
    "#continue with the other questions"
   ]
  }
 ],
 "metadata": {
  "kernelspec": {
   "display_name": "Python 3",
   "language": "python",
   "name": "python3"
  },
  "language_info": {
   "codemirror_mode": {
    "name": "ipython",
    "version": 3
   },
   "file_extension": ".py",
   "mimetype": "text/x-python",
   "name": "python",
   "nbconvert_exporter": "python",
   "pygments_lexer": "ipython3",
   "version": "3.8.3"
  }
 },
 "nbformat": 4,
 "nbformat_minor": 4
}
