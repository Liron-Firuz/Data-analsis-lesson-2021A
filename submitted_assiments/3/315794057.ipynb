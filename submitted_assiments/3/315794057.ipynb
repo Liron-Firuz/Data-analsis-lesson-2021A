{
 "cells": [
  {
   "cell_type": "markdown",
   "metadata": {},
   "source": [
    " Liron firuz 315794057"
   ]
  },
  {
   "cell_type": "code",
   "execution_count": 1,
   "metadata": {},
   "outputs": [],
   "source": [
    "import numpy as np\n",
    "import pandas as pd\n",
    "import seaborn as sns"
   ]
  },
  {
   "cell_type": "code",
   "execution_count": 2,
   "metadata": {},
   "outputs": [],
   "source": [
    "url = 'https://raw.githubusercontent.com/nlihin/data-analytics/main/datasets/youtube/youtube_US_short.csv'\n",
    "Data = pd.read_csv(url)"
   ]
  },
  {
   "cell_type": "markdown",
   "metadata": {},
   "source": [
    "Q1: video with highist views number: 149376127. \n",
    "Its name:The Shape of 2017.\n",
    "Its publish time is: december 6 2017.\n"
   ]
  },
  {
   "cell_type": "code",
   "execution_count": 3,
   "metadata": {},
   "outputs": [
    {
     "data": {
      "text/plain": [
       "149376127"
      ]
     },
     "execution_count": 3,
     "metadata": {},
     "output_type": "execute_result"
    }
   ],
   "source": [
    "Data['views'].max()"
   ]
  },
  {
   "cell_type": "code",
   "execution_count": 4,
   "metadata": {},
   "outputs": [
    {
     "data": {
      "text/plain": [
       "6181    YouTube Rewind: The Shape of 2017 | #YouTubeRe...\n",
       "Name: title, dtype: object"
      ]
     },
     "execution_count": 4,
     "metadata": {},
     "output_type": "execute_result"
    }
   ],
   "source": [
    "Data[Data.loc[:,'views']==149376127].title"
   ]
  },
  {
   "cell_type": "code",
   "execution_count": 5,
   "metadata": {},
   "outputs": [
    {
     "data": {
      "text/plain": [
       "6181    2017-12-06T17:58:51.000Z\n",
       "Name: publish_time, dtype: object"
      ]
     },
     "execution_count": 5,
     "metadata": {},
     "output_type": "execute_result"
    }
   ],
   "source": [
    "Data[Data.loc[:,'views']==149376127].publish_time"
   ]
  },
  {
   "cell_type": "markdown",
   "metadata": {},
   "source": [
    "Q2"
   ]
  },
  {
   "cell_type": "code",
   "execution_count": 6,
   "metadata": {},
   "outputs": [
    {
     "data": {
      "text/html": [
       "<div>\n",
       "<style scoped>\n",
       "    .dataframe tbody tr th:only-of-type {\n",
       "        vertical-align: middle;\n",
       "    }\n",
       "\n",
       "    .dataframe tbody tr th {\n",
       "        vertical-align: top;\n",
       "    }\n",
       "\n",
       "    .dataframe thead th {\n",
       "        text-align: right;\n",
       "    }\n",
       "</style>\n",
       "<table border=\"1\" class=\"dataframe\">\n",
       "  <thead>\n",
       "    <tr style=\"text-align: right;\">\n",
       "      <th></th>\n",
       "      <th>channel_title</th>\n",
       "      <th>views</th>\n",
       "    </tr>\n",
       "  </thead>\n",
       "  <tbody>\n",
       "    <tr>\n",
       "      <th>6181</th>\n",
       "      <td>YouTube Spotlight</td>\n",
       "      <td>149376127</td>\n",
       "    </tr>\n",
       "    <tr>\n",
       "      <th>5935</th>\n",
       "      <td>YouTube Spotlight</td>\n",
       "      <td>137843120</td>\n",
       "    </tr>\n",
       "    <tr>\n",
       "      <th>5699</th>\n",
       "      <td>YouTube Spotlight</td>\n",
       "      <td>125432237</td>\n",
       "    </tr>\n",
       "  </tbody>\n",
       "</table>\n",
       "</div>"
      ],
      "text/plain": [
       "          channel_title      views\n",
       "6181  YouTube Spotlight  149376127\n",
       "5935  YouTube Spotlight  137843120\n",
       "5699  YouTube Spotlight  125432237"
      ]
     },
     "execution_count": 6,
     "metadata": {},
     "output_type": "execute_result"
    }
   ],
   "source": [
    "top_channel=Data[['channel_title','views']]\n",
    "top_3_channel=top_channel.sort_values('views',ascending = False)\n",
    "top_3_channel.head(3)"
   ]
  },
  {
   "cell_type": "markdown",
   "metadata": {},
   "source": [
    "Q3"
   ]
  },
  {
   "cell_type": "code",
   "execution_count": 7,
   "metadata": {},
   "outputs": [
    {
     "data": {
      "text/html": [
       "<div>\n",
       "<style scoped>\n",
       "    .dataframe tbody tr th:only-of-type {\n",
       "        vertical-align: middle;\n",
       "    }\n",
       "\n",
       "    .dataframe tbody tr th {\n",
       "        vertical-align: top;\n",
       "    }\n",
       "\n",
       "    .dataframe thead th {\n",
       "        text-align: right;\n",
       "    }\n",
       "</style>\n",
       "<table border=\"1\" class=\"dataframe\">\n",
       "  <thead>\n",
       "    <tr style=\"text-align: right;\">\n",
       "      <th></th>\n",
       "      <th>likes</th>\n",
       "      <th>dislikes</th>\n",
       "      <th>views</th>\n",
       "      <th>comment_count</th>\n",
       "    </tr>\n",
       "  </thead>\n",
       "  <tbody>\n",
       "    <tr>\n",
       "      <th>likes</th>\n",
       "      <td>1.000000</td>\n",
       "      <td>0.801154</td>\n",
       "      <td>0.877789</td>\n",
       "      <td>0.881849</td>\n",
       "    </tr>\n",
       "    <tr>\n",
       "      <th>dislikes</th>\n",
       "      <td>0.801154</td>\n",
       "      <td>1.000000</td>\n",
       "      <td>0.866979</td>\n",
       "      <td>0.843331</td>\n",
       "    </tr>\n",
       "    <tr>\n",
       "      <th>views</th>\n",
       "      <td>0.877789</td>\n",
       "      <td>0.866979</td>\n",
       "      <td>1.000000</td>\n",
       "      <td>0.840532</td>\n",
       "    </tr>\n",
       "    <tr>\n",
       "      <th>comment_count</th>\n",
       "      <td>0.881849</td>\n",
       "      <td>0.843331</td>\n",
       "      <td>0.840532</td>\n",
       "      <td>1.000000</td>\n",
       "    </tr>\n",
       "  </tbody>\n",
       "</table>\n",
       "</div>"
      ],
      "text/plain": [
       "                  likes  dislikes     views  comment_count\n",
       "likes          1.000000  0.801154  0.877789       0.881849\n",
       "dislikes       0.801154  1.000000  0.866979       0.843331\n",
       "views          0.877789  0.866979  1.000000       0.840532\n",
       "comment_count  0.881849  0.843331  0.840532       1.000000"
      ]
     },
     "execution_count": 7,
     "metadata": {},
     "output_type": "execute_result"
    }
   ],
   "source": [
    "reaction_to_video=Data[['likes','dislikes','views','comment_count']]\n",
    "reaction_to_video.corr(method='spearman')"
   ]
  },
  {
   "cell_type": "markdown",
   "metadata": {},
   "source": [
    "Q4"
   ]
  },
  {
   "cell_type": "code",
   "execution_count": 8,
   "metadata": {},
   "outputs": [
    {
     "data": {
      "text/plain": [
       "<matplotlib.axes._subplots.AxesSubplot at 0x1f447547f70>"
      ]
     },
     "execution_count": 8,
     "metadata": {},
     "output_type": "execute_result"
    },
    {
     "data": {
      "image/png": "[encoded data removed]",
      "text/plain": [
       "<Figure size 432x288 with 2 Axes>"
      ]
     },
     "metadata": {
      "needs_background": "light"
     },
     "output_type": "display_data"
    }
   ],
   "source": [
    "correlation_matrix=reaction_to_video.corr(method='spearman')\n",
    "sns.heatmap(data=correlation_matrix,cmap='Reds', annot=True)"
   ]
  },
  {
   "cell_type": "markdown",
   "metadata": {},
   "source": [
    "Q5: strongest correlation is 0.88 (likes & views, and also likes & Comment count)"
   ]
  },
  {
   "cell_type": "code",
   "execution_count": 9,
   "metadata": {},
   "outputs": [
    {
     "data": {
      "text/plain": [
       "likes            0.881849\n",
       "dislikes         0.866979\n",
       "views            0.877789\n",
       "comment_count    0.881849\n",
       "dtype: float64"
      ]
     },
     "execution_count": 9,
     "metadata": {},
     "output_type": "execute_result"
    }
   ],
   "source": [
    "correlation_matrix = correlation_matrix.replace(1,0)\n",
    "correlation_matrix.max()"
   ]
  },
  {
   "cell_type": "code",
   "execution_count": 13,
   "metadata": {},
   "outputs": [
    {
     "data": {
      "text/plain": [
       "<matplotlib.axes._subplots.AxesSubplot at 0x1f44810cb80>"
      ]
     },
     "execution_count": 13,
     "metadata": {},
     "output_type": "execute_result"
    },
    {
     "data": {
      "image/png": "[encoded data removed]",
      "text/plain": [
       "<Figure size 432x288 with 1 Axes>"
      ]
     },
     "metadata": {
      "needs_background": "light"
     },
     "output_type": "display_data"
    },
    {
     "data": {
      "image/png": "[encoded data removed]",
      "text/plain": [
       "<Figure size 432x288 with 1 Axes>"
      ]
     },
     "metadata": {
      "needs_background": "light"
     },
     "output_type": "display_data"
    }
   ],
   "source": [
    "reaction_to_video.plot.scatter(x = 'likes', y = 'views')\n",
    "reaction_to_video.plot.scatter(x = 'likes', y = 'comment_count')"
   ]
  },
  {
   "cell_type": "markdown",
   "metadata": {},
   "source": [
    "Q6"
   ]
  },
  {
   "cell_type": "code",
   "execution_count": 11,
   "metadata": {},
   "outputs": [
    {
     "data": {
      "text/html": [
       "<div>\n",
       "<style scoped>\n",
       "    .dataframe tbody tr th:only-of-type {\n",
       "        vertical-align: middle;\n",
       "    }\n",
       "\n",
       "    .dataframe tbody tr th {\n",
       "        vertical-align: top;\n",
       "    }\n",
       "\n",
       "    .dataframe thead tr th {\n",
       "        text-align: left;\n",
       "    }\n",
       "\n",
       "    .dataframe thead tr:last-of-type th {\n",
       "        text-align: right;\n",
       "    }\n",
       "</style>\n",
       "<table border=\"1\" class=\"dataframe\">\n",
       "  <thead>\n",
       "    <tr>\n",
       "      <th></th>\n",
       "      <th colspan=\"16\" halign=\"left\">views</th>\n",
       "    </tr>\n",
       "    <tr>\n",
       "      <th>category_id</th>\n",
       "      <th>1</th>\n",
       "      <th>2</th>\n",
       "      <th>10</th>\n",
       "      <th>15</th>\n",
       "      <th>17</th>\n",
       "      <th>19</th>\n",
       "      <th>20</th>\n",
       "      <th>22</th>\n",
       "      <th>23</th>\n",
       "      <th>24</th>\n",
       "      <th>25</th>\n",
       "      <th>26</th>\n",
       "      <th>27</th>\n",
       "      <th>28</th>\n",
       "      <th>29</th>\n",
       "      <th>43</th>\n",
       "    </tr>\n",
       "    <tr>\n",
       "      <th>year</th>\n",
       "      <th></th>\n",
       "      <th></th>\n",
       "      <th></th>\n",
       "      <th></th>\n",
       "      <th></th>\n",
       "      <th></th>\n",
       "      <th></th>\n",
       "      <th></th>\n",
       "      <th></th>\n",
       "      <th></th>\n",
       "      <th></th>\n",
       "      <th></th>\n",
       "      <th></th>\n",
       "      <th></th>\n",
       "      <th></th>\n",
       "      <th></th>\n",
       "    </tr>\n",
       "  </thead>\n",
       "  <tbody>\n",
       "    <tr>\n",
       "      <th>2017</th>\n",
       "      <td>1.523700e+06</td>\n",
       "      <td>673961.717949</td>\n",
       "      <td>2.699066e+06</td>\n",
       "      <td>616435.598291</td>\n",
       "      <td>764014.400802</td>\n",
       "      <td>430884.428571</td>\n",
       "      <td>6.066798e+05</td>\n",
       "      <td>816076.476744</td>\n",
       "      <td>1.139901e+06</td>\n",
       "      <td>1.619840e+06</td>\n",
       "      <td>299529.406607</td>\n",
       "      <td>816109.490296</td>\n",
       "      <td>538659.191489</td>\n",
       "      <td>847030.296108</td>\n",
       "      <td>11013.928571</td>\n",
       "      <td>159222.363636</td>\n",
       "    </tr>\n",
       "    <tr>\n",
       "      <th>2018</th>\n",
       "      <td>1.116844e+06</td>\n",
       "      <td>268244.866667</td>\n",
       "      <td>2.936402e+06</td>\n",
       "      <td>517924.841270</td>\n",
       "      <td>570928.972222</td>\n",
       "      <td>261498.344828</td>\n",
       "      <td>1.683533e+06</td>\n",
       "      <td>399114.317647</td>\n",
       "      <td>1.126556e+06</td>\n",
       "      <td>1.217611e+06</td>\n",
       "      <td>237351.269608</td>\n",
       "      <td>430092.593301</td>\n",
       "      <td>397855.081301</td>\n",
       "      <td>581375.204082</td>\n",
       "      <td>25463.555556</td>\n",
       "      <td>NaN</td>\n",
       "    </tr>\n",
       "  </tbody>\n",
       "</table>\n",
       "</div>"
      ],
      "text/plain": [
       "                    views                                              \\\n",
       "category_id            1              2             10             15   \n",
       "year                                                                    \n",
       "2017         1.523700e+06  673961.717949  2.699066e+06  616435.598291   \n",
       "2018         1.116844e+06  268244.866667  2.936402e+06  517924.841270   \n",
       "\n",
       "                                                                        \\\n",
       "category_id             17             19            20             22   \n",
       "year                                                                     \n",
       "2017         764014.400802  430884.428571  6.066798e+05  816076.476744   \n",
       "2018         570928.972222  261498.344828  1.683533e+06  399114.317647   \n",
       "\n",
       "                                                                       \\\n",
       "category_id            23            24             25             26   \n",
       "year                                                                    \n",
       "2017         1.139901e+06  1.619840e+06  299529.406607  816109.490296   \n",
       "2018         1.126556e+06  1.217611e+06  237351.269608  430092.593301   \n",
       "\n",
       "                                                                        \n",
       "category_id             27             28            29             43  \n",
       "year                                                                    \n",
       "2017         538659.191489  847030.296108  11013.928571  159222.363636  \n",
       "2018         397855.081301  581375.204082  25463.555556            NaN  "
      ]
     },
     "execution_count": 11,
     "metadata": {},
     "output_type": "execute_result"
    }
   ],
   "source": [
    "Data_c=Data.copy(deep=False)\n",
    "Data_c['publish_time'] = pd.to_datetime(Data_c.publish_time)\n",
    "Data_c['year'] = pd.DatetimeIndex(Data_c.publish_time).year\n",
    "cut_data=Data_c[['year','views','category_id']]\n",
    "data_for_pivot=cut_data[cut_data.loc[:,'year']>=2017]\n",
    "data_for_pivot.pivot_table(['views'], index='year', columns='category_id')"
   ]
  }
 ],
 "metadata": {
  "kernelspec": {
   "display_name": "Python 3",
   "language": "python",
   "name": "python3"
  },
  "language_info": {
   "codemirror_mode": {
    "name": "ipython",
    "version": 3
   },
   "file_extension": ".py",
   "mimetype": "text/x-python",
   "name": "python",
   "nbconvert_exporter": "python",
   "pygments_lexer": "ipython3",
   "version": "3.8.3"
  }
 },
 "nbformat": 4,
 "nbformat_minor": 4
}
